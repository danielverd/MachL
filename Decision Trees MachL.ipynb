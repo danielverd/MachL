{
 "cells": [
  {
   "cell_type": "code",
   "execution_count": 1,
   "metadata": {},
   "outputs": [],
   "source": [
    "from sklearn.tree import DecisionTreeClassifier\n",
    "from sklearn.model_selection import train_test_split\n",
    "import pandas as pd\n",
    "import matplotlib.pyplot as plt\n",
    "import time"
   ]
  },
  {
   "cell_type": "markdown",
   "metadata": {},
   "source": [
    "The following fucntion is used to detrmine the max depth of the decision tree. We can use this value as a proxy to determine the complexity of the tree."
   ]
  },
  {
   "cell_type": "code",
   "execution_count": 2,
   "metadata": {},
   "outputs": [],
   "source": [
    "def dectree_max_depth(tree):\n",
    "    n_nodes = tree.node_count\n",
    "    children_left = tree.children_left\n",
    "    children_right = tree.children_right\n",
    "\n",
    "    def walk(node_id):\n",
    "        if (children_left[node_id] != children_right[node_id]):\n",
    "            left_max = 1 + walk(children_left[node_id])\n",
    "            right_max = 1 + walk(children_right[node_id])\n",
    "            return max(left_max, right_max)\n",
    "        else: # leaf\n",
    "            return 1\n",
    "\n",
    "    root_node_id = 0\n",
    "    return walk(root_node_id)"
   ]
  },
  {
   "cell_type": "markdown",
   "metadata": {},
   "source": [
    "We're importing the full data here. It has 581k examples and 54 attributes, so I think it fits the qualification of a BIG dataset."
   ]
  },
  {
   "cell_type": "code",
   "execution_count": 3,
   "metadata": {},
   "outputs": [
    {
     "data": {
      "text/html": [
       "<div>\n",
       "<style scoped>\n",
       "    .dataframe tbody tr th:only-of-type {\n",
       "        vertical-align: middle;\n",
       "    }\n",
       "\n",
       "    .dataframe tbody tr th {\n",
       "        vertical-align: top;\n",
       "    }\n",
       "\n",
       "    .dataframe thead th {\n",
       "        text-align: right;\n",
       "    }\n",
       "</style>\n",
       "<table border=\"1\" class=\"dataframe\">\n",
       "  <thead>\n",
       "    <tr style=\"text-align: right;\">\n",
       "      <th></th>\n",
       "      <th>0</th>\n",
       "      <th>1</th>\n",
       "      <th>2</th>\n",
       "      <th>3</th>\n",
       "      <th>4</th>\n",
       "      <th>5</th>\n",
       "      <th>6</th>\n",
       "      <th>7</th>\n",
       "      <th>8</th>\n",
       "      <th>9</th>\n",
       "      <th>...</th>\n",
       "      <th>45</th>\n",
       "      <th>46</th>\n",
       "      <th>47</th>\n",
       "      <th>48</th>\n",
       "      <th>49</th>\n",
       "      <th>50</th>\n",
       "      <th>51</th>\n",
       "      <th>52</th>\n",
       "      <th>53</th>\n",
       "      <th>54</th>\n",
       "    </tr>\n",
       "  </thead>\n",
       "  <tbody>\n",
       "    <tr>\n",
       "      <th>0</th>\n",
       "      <td>2596</td>\n",
       "      <td>51</td>\n",
       "      <td>3</td>\n",
       "      <td>258</td>\n",
       "      <td>0</td>\n",
       "      <td>510</td>\n",
       "      <td>221</td>\n",
       "      <td>232</td>\n",
       "      <td>148</td>\n",
       "      <td>6279</td>\n",
       "      <td>...</td>\n",
       "      <td>0</td>\n",
       "      <td>0</td>\n",
       "      <td>0</td>\n",
       "      <td>0</td>\n",
       "      <td>0</td>\n",
       "      <td>0</td>\n",
       "      <td>0</td>\n",
       "      <td>0</td>\n",
       "      <td>0</td>\n",
       "      <td>5</td>\n",
       "    </tr>\n",
       "    <tr>\n",
       "      <th>1</th>\n",
       "      <td>2590</td>\n",
       "      <td>56</td>\n",
       "      <td>2</td>\n",
       "      <td>212</td>\n",
       "      <td>-6</td>\n",
       "      <td>390</td>\n",
       "      <td>220</td>\n",
       "      <td>235</td>\n",
       "      <td>151</td>\n",
       "      <td>6225</td>\n",
       "      <td>...</td>\n",
       "      <td>0</td>\n",
       "      <td>0</td>\n",
       "      <td>0</td>\n",
       "      <td>0</td>\n",
       "      <td>0</td>\n",
       "      <td>0</td>\n",
       "      <td>0</td>\n",
       "      <td>0</td>\n",
       "      <td>0</td>\n",
       "      <td>5</td>\n",
       "    </tr>\n",
       "    <tr>\n",
       "      <th>2</th>\n",
       "      <td>2804</td>\n",
       "      <td>139</td>\n",
       "      <td>9</td>\n",
       "      <td>268</td>\n",
       "      <td>65</td>\n",
       "      <td>3180</td>\n",
       "      <td>234</td>\n",
       "      <td>238</td>\n",
       "      <td>135</td>\n",
       "      <td>6121</td>\n",
       "      <td>...</td>\n",
       "      <td>0</td>\n",
       "      <td>0</td>\n",
       "      <td>0</td>\n",
       "      <td>0</td>\n",
       "      <td>0</td>\n",
       "      <td>0</td>\n",
       "      <td>0</td>\n",
       "      <td>0</td>\n",
       "      <td>0</td>\n",
       "      <td>2</td>\n",
       "    </tr>\n",
       "    <tr>\n",
       "      <th>3</th>\n",
       "      <td>2785</td>\n",
       "      <td>155</td>\n",
       "      <td>18</td>\n",
       "      <td>242</td>\n",
       "      <td>118</td>\n",
       "      <td>3090</td>\n",
       "      <td>238</td>\n",
       "      <td>238</td>\n",
       "      <td>122</td>\n",
       "      <td>6211</td>\n",
       "      <td>...</td>\n",
       "      <td>0</td>\n",
       "      <td>0</td>\n",
       "      <td>0</td>\n",
       "      <td>0</td>\n",
       "      <td>0</td>\n",
       "      <td>0</td>\n",
       "      <td>0</td>\n",
       "      <td>0</td>\n",
       "      <td>0</td>\n",
       "      <td>2</td>\n",
       "    </tr>\n",
       "    <tr>\n",
       "      <th>4</th>\n",
       "      <td>2595</td>\n",
       "      <td>45</td>\n",
       "      <td>2</td>\n",
       "      <td>153</td>\n",
       "      <td>-1</td>\n",
       "      <td>391</td>\n",
       "      <td>220</td>\n",
       "      <td>234</td>\n",
       "      <td>150</td>\n",
       "      <td>6172</td>\n",
       "      <td>...</td>\n",
       "      <td>0</td>\n",
       "      <td>0</td>\n",
       "      <td>0</td>\n",
       "      <td>0</td>\n",
       "      <td>0</td>\n",
       "      <td>0</td>\n",
       "      <td>0</td>\n",
       "      <td>0</td>\n",
       "      <td>0</td>\n",
       "      <td>5</td>\n",
       "    </tr>\n",
       "  </tbody>\n",
       "</table>\n",
       "<p>5 rows × 55 columns</p>\n",
       "</div>"
      ],
      "text/plain": [
       "     0    1   2    3    4     5    6    7    8     9  ...  45  46  47  48  49  \\\n",
       "0  2596   51   3  258    0   510  221  232  148  6279 ...   0   0   0   0   0   \n",
       "1  2590   56   2  212   -6   390  220  235  151  6225 ...   0   0   0   0   0   \n",
       "2  2804  139   9  268   65  3180  234  238  135  6121 ...   0   0   0   0   0   \n",
       "3  2785  155  18  242  118  3090  238  238  122  6211 ...   0   0   0   0   0   \n",
       "4  2595   45   2  153   -1   391  220  234  150  6172 ...   0   0   0   0   0   \n",
       "\n",
       "   50  51  52  53  54  \n",
       "0   0   0   0   0   5  \n",
       "1   0   0   0   0   5  \n",
       "2   0   0   0   0   2  \n",
       "3   0   0   0   0   2  \n",
       "4   0   0   0   0   5  \n",
       "\n",
       "[5 rows x 55 columns]"
      ]
     },
     "execution_count": 3,
     "metadata": {},
     "output_type": "execute_result"
    }
   ],
   "source": [
    "data = pd.read_csv('covtype.csv', header=None)\n",
    "data.head()"
   ]
  },
  {
   "cell_type": "markdown",
   "metadata": {},
   "source": [
    "We will now set up the dataset to build a decision tree. This doesn't change the size of the dataset, it just removes the class label from the attribute values."
   ]
  },
  {
   "cell_type": "code",
   "execution_count": 4,
   "metadata": {},
   "outputs": [
    {
     "name": "stdout",
     "output_type": "stream",
     "text": [
      "(581012, 54)\n"
     ]
    }
   ],
   "source": [
    "clss = data[54]\n",
    "dataF = data.drop(columns=[54])\n",
    "print(dataF.shape)\n",
    "\n",
    "traindata, testdata, trainclass, testclass = train_test_split(dataF, clss, test_size=0.30)\n",
    "times = []\n",
    "#computational times will be in seconds\n",
    "accuracies = []\n",
    "#accuracies will be fractional\n",
    "depths = []\n",
    "#depth tracks the max depth of the tree\n",
    "#We then print out the size of this training set. This changes every time."
   ]
  },
  {
   "cell_type": "code",
   "execution_count": 5,
   "metadata": {},
   "outputs": [
    {
     "name": "stdout",
     "output_type": "stream",
     "text": [
      "(406708, 54)\n"
     ]
    }
   ],
   "source": [
    "#THis decision tree will split until subsets are pure. The decision tree functions using entropy and information gain to split\n",
    "#the numeric variables so they become discrete. Then it uses the information gain from class to build the tree.\n",
    "#No pruning of any kind will be carried out.\n",
    "print(traindata.shape)\n",
    "start = time.time()\n",
    "clf = DecisionTreeClassifier()\n",
    "clf.fit(traindata, trainclass)\n",
    "end = time.time()\n",
    "times.append(end-start)\n",
    "accuracies.append(clf.score(testdata,testclass))\n",
    "\n",
    "depths.append(dectree_max_depth(clf.tree_))"
   ]
  },
  {
   "cell_type": "code",
   "execution_count": 6,
   "metadata": {},
   "outputs": [
    {
     "name": "stdout",
     "output_type": "stream",
     "text": [
      "(345701, 54)\n"
     ]
    }
   ],
   "source": [
    "traindata2, crap, trainclass2, poop = train_test_split(traindata, trainclass, test_size=0.15)\n",
    "#60% is used for training\n",
    "\n",
    "print(traindata2.shape)\n",
    "start = time.time()\n",
    "clf = DecisionTreeClassifier()\n",
    "clf.fit(traindata2, trainclass2)\n",
    "end = time.time()\n",
    "times.append(end-start)\n",
    "accuracies.append(clf.score(testdata,testclass))\n",
    "\n",
    "depths.append(dectree_max_depth(clf.tree_))"
   ]
  },
  {
   "cell_type": "code",
   "execution_count": 7,
   "metadata": {},
   "outputs": [
    {
     "name": "stdout",
     "output_type": "stream",
     "text": [
      "(288762, 54)\n"
     ]
    }
   ],
   "source": [
    "traindata3, crap, trainclass3, poop = train_test_split(traindata, trainclass, test_size=0.29)\n",
    "#50% is used for training\n",
    "\n",
    "print(traindata3.shape)\n",
    "start = time.time()\n",
    "clf = DecisionTreeClassifier()\n",
    "clf.fit(traindata3, trainclass3)\n",
    "end = time.time()\n",
    "times.append(end-start)\n",
    "accuracies.append(clf.score(testdata,testclass))\n",
    "\n",
    "depths.append(dectree_max_depth(clf.tree_))"
   ]
  },
  {
   "cell_type": "code",
   "execution_count": 8,
   "metadata": {},
   "outputs": [
    {
     "name": "stdout",
     "output_type": "stream",
     "text": [
      "(231823, 54)\n"
     ]
    }
   ],
   "source": [
    "traindata4, crap, trainclass4, poop = train_test_split(traindata, trainclass, test_size=0.43)\n",
    "#40% is used for training\n",
    "\n",
    "print(traindata4.shape)\n",
    "start = time.time()\n",
    "clf = DecisionTreeClassifier()\n",
    "clf.fit(traindata4, trainclass4)\n",
    "end = time.time()\n",
    "times.append(end-start)\n",
    "accuracies.append(clf.score(testdata,testclass))\n",
    "\n",
    "depths.append(dectree_max_depth(clf.tree_))"
   ]
  },
  {
   "cell_type": "code",
   "execution_count": 9,
   "metadata": {},
   "outputs": [
    {
     "name": "stdout",
     "output_type": "stream",
     "text": [
      "(174884, 54)\n"
     ]
    }
   ],
   "source": [
    "traindata5, crap, trainclass5, poop = train_test_split(traindata, trainclass, test_size=0.57)\n",
    "#30% is used for training\n",
    "\n",
    "print(traindata5.shape)\n",
    "start = time.time()\n",
    "clf = DecisionTreeClassifier()\n",
    "clf.fit(traindata5, trainclass5)\n",
    "end = time.time()\n",
    "times.append(end-start)\n",
    "accuracies.append(clf.score(testdata,testclass))\n",
    "\n",
    "depths.append(dectree_max_depth(clf.tree_))"
   ]
  },
  {
   "cell_type": "code",
   "execution_count": 10,
   "metadata": {},
   "outputs": [
    {
     "name": "stdout",
     "output_type": "stream",
     "text": [
      "(117945, 54)\n"
     ]
    }
   ],
   "source": [
    "traindata6, crap, trainclass6, poop = train_test_split(traindata, trainclass, test_size=0.71)\n",
    "#20% is used for training\n",
    "\n",
    "print(traindata6.shape)\n",
    "start = time.time()\n",
    "clf = DecisionTreeClassifier()\n",
    "clf.fit(traindata6, trainclass6)\n",
    "end = time.time()\n",
    "times.append(end-start)\n",
    "accuracies.append(clf.score(testdata,testclass))\n",
    "\n",
    "depths.append(dectree_max_depth(clf.tree_))"
   ]
  },
  {
   "cell_type": "code",
   "execution_count": 11,
   "metadata": {},
   "outputs": [
    {
     "name": "stdout",
     "output_type": "stream",
     "text": [
      "(61006, 54)\n"
     ]
    }
   ],
   "source": [
    "traindata7, crap, trainclass7, poop = train_test_split(traindata, trainclass, test_size=0.85)\n",
    "#10% is used for training\n",
    "\n",
    "print(traindata7.shape)\n",
    "start = time.time()\n",
    "clf = DecisionTreeClassifier()\n",
    "clf.fit(traindata7, trainclass7)\n",
    "end = time.time()\n",
    "times.append(end-start)\n",
    "accuracies.append(clf.score(testdata,testclass))\n",
    "\n",
    "depths.append(dectree_max_depth(clf.tree_))"
   ]
  },
  {
   "cell_type": "code",
   "execution_count": 12,
   "metadata": {},
   "outputs": [
    {
     "name": "stdout",
     "output_type": "stream",
     "text": [
      "[6.986670970916748, 6.179782867431641, 5.274000644683838, 3.4750473499298096, 2.5658318996429443, 1.840834379196167, 0.7639591693878174]\n",
      "[0.9344535983109968, 0.9291926748668992, 0.9227441711033596, 0.9157104828345879, 0.9014882045162474, 0.8843629520837158, 0.8435606756012484]\n",
      "[48, 43, 46, 43, 41, 39, 36]\n"
     ]
    }
   ],
   "source": [
    "print(times)\n",
    "print(accuracies)\n",
    "print(depths)"
   ]
  },
  {
   "cell_type": "code",
   "execution_count": 13,
   "metadata": {},
   "outputs": [
    {
     "data": {
      "image/png": "[encoded data removed]",
      "text/plain": [
       "<Figure size 432x288 with 1 Axes>"
      ]
     },
     "metadata": {},
     "output_type": "display_data"
    }
   ],
   "source": [
    "plt.plot([70,60,50,40,30,20,10],times,'-o', color='orange')\n",
    "plt.title('Decision Tree Induction Time vs Training Set Size')\n",
    "plt.xlabel('Subset of data used for training')\n",
    "plt.ylabel('time (s)')\n",
    "plt.show()"
   ]
  },
  {
   "cell_type": "code",
   "execution_count": 14,
   "metadata": {},
   "outputs": [
    {
     "data": {
      "image/png": "[encoded data removed]",
      "text/plain": [
       "<Figure size 432x288 with 1 Axes>"
      ]
     },
     "metadata": {},
     "output_type": "display_data"
    }
   ],
   "source": [
    "plt.plot([70,60,50,40,30,20,10],accuracies,'-o', color='green')\n",
    "plt.title('Decision Tree Accuracy vs Training Set Size')\n",
    "plt.xlabel('Subset of data used for training')\n",
    "plt.ylabel('accuracy')\n",
    "plt.show()"
   ]
  },
  {
   "cell_type": "code",
   "execution_count": 15,
   "metadata": {},
   "outputs": [],
   "source": [
    "#computational time grows like O(n), while the accuracy grows like O(sqrtn). This means that you can save tons of computational\n",
    "#time by sacrificing minimal accuracy.\n",
    "#For this dataset, computational time can be cut in half by using 40% of the data as a training set. Accuracy only falls by 2%."
   ]
  },
  {
   "cell_type": "code",
   "execution_count": 16,
   "metadata": {},
   "outputs": [],
   "source": [
    "#From this experiment we can conclude that significant computational costs/time can be saved depending on the accuracy needed.\n",
    "#In this experiment, using 40% of data to induce the tree is optimal as it keeps accuracy above 90% with 1/2 the cost."
   ]
  },
  {
   "cell_type": "code",
   "execution_count": 17,
   "metadata": {},
   "outputs": [],
   "source": [
    "#All computations are carried out on a machine with an Intel 17 processor with 4 cores running at 2.6GHz\n",
    "#Although we have expressed time using Big O notation, it still helps to calibrate the times based on hardware used."
   ]
  },
  {
   "cell_type": "code",
   "execution_count": null,
   "metadata": {},
   "outputs": [],
   "source": []
  }
 ],
 "metadata": {
  "kernelspec": {
   "display_name": "Python 3",
   "language": "python",
   "name": "python3"
  },
  "language_info": {
   "codemirror_mode": {
    "name": "ipython",
    "version": 3
   },
   "file_extension": ".py",
   "mimetype": "text/x-python",
   "name": "python",
   "nbconvert_exporter": "python",
   "pygments_lexer": "ipython3",
   "version": "3.6.0"
  }
 },
 "nbformat": 4,
 "nbformat_minor": 2
}
